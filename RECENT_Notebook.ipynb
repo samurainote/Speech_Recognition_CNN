{
 "cells": [
  {
   "cell_type": "markdown",
   "metadata": {},
   "source": [
    "# Speech Recognition: CNN for Spoken Language\n",
    "畳み込みニューラルネットワークによる音声認識  \n",
    "- https://chsasank.github.io/spoken-language-understanding.html"
   ]
  },
  {
   "cell_type": "markdown",
   "metadata": {},
   "source": [
    "<img src=\"SR.png\">"
   ]
  },
  {
   "cell_type": "markdown",
   "metadata": {},
   "source": [
    "要点: 波形の形状のパターンを学習することで、畳み込みによって特徴を抽出する"
   ]
  },
  {
   "cell_type": "markdown",
   "metadata": {},
   "source": [
    "### Process 手順\n",
    "- 音声データ（Dataset: ）\n",
    "- 波形獲得（.wav）\n",
    "- 特徴抽出（転移学習: ）\n",
    "- モデル構築（CNN）\n",
    "\n",
    "### Terminology 専門用語\n",
    "- メル周波数ケプストラム係数（MFCC）"
   ]
  },
  {
   "cell_type": "markdown",
   "metadata": {},
   "source": [
    "## Step 1. Data Preparation"
   ]
  },
  {
   "cell_type": "code",
   "execution_count": 1,
   "metadata": {},
   "outputs": [
    {
     "name": "stderr",
     "output_type": "stream",
     "text": [
      "Using TensorFlow backend.\n"
     ]
    }
   ],
   "source": [
    "import keras\n",
    "from keras.layers import Activation, Dense, Dropout, Conv2D, Flatten, MaxPooling2D\n",
    "from keras.models import Sequential\n",
    "import librosa\n",
    "import librosa.display\n",
    "import numpy as np\n",
    "import pandas as pd\n",
    "import random\n",
    "\n",
    "import warnings\n",
    "warnings.filterwarnings('ignore')"
   ]
  },
  {
   "cell_type": "code",
   "execution_count": 2,
   "metadata": {},
   "outputs": [
    {
     "name": "stdout",
     "output_type": "stream",
     "text": [
      "0315_speech_recognition.ipynb  \u001b[34mUrbanSound8K\u001b[m\u001b[m/\r\n",
      "RECENT_Notebook.ipynb          UrbanSound8K.csv\r\n",
      "SR.png                         speech_recognition.ipynb\r\n",
      "SRD.png\r\n"
     ]
    }
   ],
   "source": [
    "ls"
   ]
  },
  {
   "cell_type": "code",
   "execution_count": 79,
   "metadata": {},
   "outputs": [
    {
     "data": {
      "text/html": [
       "<div>\n",
       "<style scoped>\n",
       "    .dataframe tbody tr th:only-of-type {\n",
       "        vertical-align: middle;\n",
       "    }\n",
       "\n",
       "    .dataframe tbody tr th {\n",
       "        vertical-align: top;\n",
       "    }\n",
       "\n",
       "    .dataframe thead th {\n",
       "        text-align: right;\n",
       "    }\n",
       "</style>\n",
       "<table border=\"1\" class=\"dataframe\">\n",
       "  <thead>\n",
       "    <tr style=\"text-align: right;\">\n",
       "      <th></th>\n",
       "      <th>slice_file_name</th>\n",
       "      <th>fsID</th>\n",
       "      <th>start</th>\n",
       "      <th>end</th>\n",
       "      <th>salience</th>\n",
       "      <th>fold</th>\n",
       "      <th>classID</th>\n",
       "      <th>class</th>\n",
       "    </tr>\n",
       "  </thead>\n",
       "  <tbody>\n",
       "    <tr>\n",
       "      <th>0</th>\n",
       "      <td>100032-3-0-0.wav</td>\n",
       "      <td>100032</td>\n",
       "      <td>0.0</td>\n",
       "      <td>0.317551</td>\n",
       "      <td>1</td>\n",
       "      <td>5</td>\n",
       "      <td>3</td>\n",
       "      <td>dog_bark</td>\n",
       "    </tr>\n",
       "    <tr>\n",
       "      <th>1</th>\n",
       "      <td>100263-2-0-117.wav</td>\n",
       "      <td>100263</td>\n",
       "      <td>58.5</td>\n",
       "      <td>62.500000</td>\n",
       "      <td>1</td>\n",
       "      <td>5</td>\n",
       "      <td>2</td>\n",
       "      <td>children_playing</td>\n",
       "    </tr>\n",
       "    <tr>\n",
       "      <th>2</th>\n",
       "      <td>100263-2-0-121.wav</td>\n",
       "      <td>100263</td>\n",
       "      <td>60.5</td>\n",
       "      <td>64.500000</td>\n",
       "      <td>1</td>\n",
       "      <td>5</td>\n",
       "      <td>2</td>\n",
       "      <td>children_playing</td>\n",
       "    </tr>\n",
       "  </tbody>\n",
       "</table>\n",
       "</div>"
      ],
      "text/plain": [
       "      slice_file_name    fsID  start        end  salience  fold  classID  \\\n",
       "0    100032-3-0-0.wav  100032    0.0   0.317551         1     5        3   \n",
       "1  100263-2-0-117.wav  100263   58.5  62.500000         1     5        2   \n",
       "2  100263-2-0-121.wav  100263   60.5  64.500000         1     5        2   \n",
       "\n",
       "              class  \n",
       "0          dog_bark  \n",
       "1  children_playing  \n",
       "2  children_playing  "
      ]
     },
     "execution_count": 79,
     "metadata": {},
     "output_type": "execute_result"
    }
   ],
   "source": [
    "sounds = pd.read_csv('UrbanSound8K.csv')\n",
    "sounds.head(3)"
   ]
  },
  {
   "cell_type": "code",
   "execution_count": 80,
   "metadata": {},
   "outputs": [
    {
     "data": {
      "text/plain": [
       "8732"
      ]
     },
     "execution_count": 80,
     "metadata": {},
     "output_type": "execute_result"
    }
   ],
   "source": [
    "len(sounds)"
   ]
  },
  {
   "cell_type": "code",
   "execution_count": 81,
   "metadata": {},
   "outputs": [
    {
     "data": {
      "text/plain": [
       "array([3, 2, 1, 0, 9, 6, 8, 5, 7, 4])"
      ]
     },
     "execution_count": 81,
     "metadata": {},
     "output_type": "execute_result"
    }
   ],
   "source": [
    "#classの数\n",
    "sounds.classID.unique()"
   ]
  },
  {
   "cell_type": "code",
   "execution_count": 82,
   "metadata": {},
   "outputs": [
    {
     "data": {
      "text/html": [
       "<div>\n",
       "<style scoped>\n",
       "    .dataframe tbody tr th:only-of-type {\n",
       "        vertical-align: middle;\n",
       "    }\n",
       "\n",
       "    .dataframe tbody tr th {\n",
       "        vertical-align: top;\n",
       "    }\n",
       "\n",
       "    .dataframe thead th {\n",
       "        text-align: right;\n",
       "    }\n",
       "</style>\n",
       "<table border=\"1\" class=\"dataframe\">\n",
       "  <thead>\n",
       "    <tr style=\"text-align: right;\">\n",
       "      <th></th>\n",
       "      <th>slice_file_name</th>\n",
       "      <th>classID</th>\n",
       "      <th>fold</th>\n",
       "    </tr>\n",
       "  </thead>\n",
       "  <tbody>\n",
       "    <tr>\n",
       "      <th>1</th>\n",
       "      <td>100263-2-0-117.wav</td>\n",
       "      <td>2</td>\n",
       "      <td>5</td>\n",
       "    </tr>\n",
       "    <tr>\n",
       "      <th>2</th>\n",
       "      <td>100263-2-0-121.wav</td>\n",
       "      <td>2</td>\n",
       "      <td>5</td>\n",
       "    </tr>\n",
       "    <tr>\n",
       "      <th>3</th>\n",
       "      <td>100263-2-0-126.wav</td>\n",
       "      <td>2</td>\n",
       "      <td>5</td>\n",
       "    </tr>\n",
       "    <tr>\n",
       "      <th>4</th>\n",
       "      <td>100263-2-0-137.wav</td>\n",
       "      <td>2</td>\n",
       "      <td>5</td>\n",
       "    </tr>\n",
       "    <tr>\n",
       "      <th>5</th>\n",
       "      <td>100263-2-0-143.wav</td>\n",
       "      <td>2</td>\n",
       "      <td>5</td>\n",
       "    </tr>\n",
       "  </tbody>\n",
       "</table>\n",
       "</div>"
      ],
      "text/plain": [
       "      slice_file_name  classID  fold\n",
       "1  100263-2-0-117.wav        2     5\n",
       "2  100263-2-0-121.wav        2     5\n",
       "3  100263-2-0-126.wav        2     5\n",
       "4  100263-2-0-137.wav        2     5\n",
       "5  100263-2-0-143.wav        2     5"
      ]
     },
     "execution_count": 82,
     "metadata": {},
     "output_type": "execute_result"
    }
   ],
   "source": [
    "# 一定の長さ以上のデータのみを対象にする 3秒以上\n",
    "sounds = sounds[sounds[\"end\"] - sounds[\"start\"] >= 2]\n",
    "sounds.set_index(\"fsID\")\n",
    "sounds = sounds[[\"slice_file_name\", \"classID\", \"fold\"]]\n",
    "sounds.head()"
   ]
  },
  {
   "cell_type": "code",
   "execution_count": 83,
   "metadata": {
    "scrolled": true
   },
   "outputs": [
    {
     "data": {
      "text/plain": [
       "(7750, 3)"
      ]
     },
     "execution_count": 83,
     "metadata": {},
     "output_type": "execute_result"
    }
   ],
   "source": [
    "sounds.shape"
   ]
  },
  {
   "cell_type": "code",
   "execution_count": 86,
   "metadata": {},
   "outputs": [
    {
     "name": "stdout",
     "output_type": "stream",
     "text": [
      "10\n"
     ]
    }
   ],
   "source": [
    "#classの数\n",
    "sounds.classID.unique()\n",
    "print(len(sounds.classID.unique()))"
   ]
  },
  {
   "cell_type": "markdown",
   "metadata": {},
   "source": [
    "## Visualize Spectglam スペクトグラムの可視化"
   ]
  },
  {
   "cell_type": "code",
   "execution_count": 6,
   "metadata": {},
   "outputs": [
    {
     "data": {
      "text/plain": [
       "(128, 97)"
      ]
     },
     "execution_count": 6,
     "metadata": {},
     "output_type": "execute_result"
    }
   ],
   "source": [
    "# AC\n",
    "path1 = \"/Users/akr712/Desktop/音声認識/UrbanSound8K/audio/fold1/7061-6-0-0.wav\"\n",
    "# 音声データの読み込み\n",
    "y, sr = librosa.load(path1, duration=3.0)\n",
    "# メル周波係数の取得\n",
    "ps = librosa.feature.melspectrogram(y=y, sr=sr)\n",
    "ps.shape"
   ]
  },
  {
   "cell_type": "code",
   "execution_count": 7,
   "metadata": {},
   "outputs": [
    {
     "data": {
      "text/plain": [
       "<matplotlib.axes._subplots.AxesSubplot at 0x132cff160>"
      ]
     },
     "execution_count": 7,
     "metadata": {},
     "output_type": "execute_result"
    }
   ],
   "source": [
    "librosa.display.specshow(ps, y_axis=\"mel\", x_axis=\"time\", cmap=\"summer\")"
   ]
  },
  {
   "cell_type": "code",
   "execution_count": 8,
   "metadata": {},
   "outputs": [
    {
     "data": {
      "text/plain": [
       "<matplotlib.axes._subplots.AxesSubplot at 0x1352e54a8>"
      ]
     },
     "execution_count": 8,
     "metadata": {},
     "output_type": "execute_result"
    },
    {
     "data": {
      "image/png": "[encoded data removed]",
      "text/plain": [
       "<Figure size 432x288 with 1 Axes>"
      ]
     },
     "metadata": {
      "needs_background": "light"
     },
     "output_type": "display_data"
    }
   ],
   "source": [
    "# chirdlen\n",
    "path2 = \"/Users/akr712/Desktop/音声認識/UrbanSound8K/audio/fold6/135160-8-0-0.wav\"\n",
    "y, sr = librosa.load(path2, duration=3.0)\n",
    "ps2 = librosa.feature.melspectrogram(y=y, sr=sr)\n",
    "librosa.display.specshow(ps2, y_axis=\"mel\", x_axis=\"time\", cmap=\"summer\")"
   ]
  },
  {
   "cell_type": "code",
   "execution_count": 9,
   "metadata": {},
   "outputs": [
    {
     "data": {
      "text/plain": [
       "<matplotlib.axes._subplots.AxesSubplot at 0x1354bca90>"
      ]
     },
     "execution_count": 9,
     "metadata": {},
     "output_type": "execute_result"
    },
    {
     "data": {
      "image/png": "[encoded data removed]",
      "text/plain": [
       "<Figure size 432x288 with 1 Axes>"
      ]
     },
     "metadata": {
      "needs_background": "light"
     },
     "output_type": "display_data"
    }
   ],
   "source": [
    "# chirdlen\n",
    "path2 = \"/Users/akr712/Desktop/音声認識/UrbanSound8K/audio/fold5/6508-9-0-1.wav\"\n",
    "y, sr = librosa.load(path2, duration=3.0)\n",
    "ps2 = librosa.feature.melspectrogram(y=y, sr=sr)\n",
    "librosa.display.specshow(ps2, y_axis=\"mel\", x_axis=\"time\", cmap=\"summer\")"
   ]
  },
  {
   "cell_type": "code",
   "execution_count": 93,
   "metadata": {},
   "outputs": [
    {
     "data": {
      "text/html": [
       "<div>\n",
       "<style scoped>\n",
       "    .dataframe tbody tr th:only-of-type {\n",
       "        vertical-align: middle;\n",
       "    }\n",
       "\n",
       "    .dataframe tbody tr th {\n",
       "        vertical-align: top;\n",
       "    }\n",
       "\n",
       "    .dataframe thead th {\n",
       "        text-align: right;\n",
       "    }\n",
       "</style>\n",
       "<table border=\"1\" class=\"dataframe\">\n",
       "  <thead>\n",
       "    <tr style=\"text-align: right;\">\n",
       "      <th></th>\n",
       "      <th>slice_file_name</th>\n",
       "      <th>classID</th>\n",
       "      <th>fold</th>\n",
       "      <th>path</th>\n",
       "    </tr>\n",
       "  </thead>\n",
       "  <tbody>\n",
       "    <tr>\n",
       "      <th>1</th>\n",
       "      <td>100263-2-0-117.wav</td>\n",
       "      <td>2</td>\n",
       "      <td>5</td>\n",
       "      <td>/Users/akr712/Desktop/音声認識/UrbanSound8K/audio/...</td>\n",
       "    </tr>\n",
       "    <tr>\n",
       "      <th>2</th>\n",
       "      <td>100263-2-0-121.wav</td>\n",
       "      <td>2</td>\n",
       "      <td>5</td>\n",
       "      <td>/Users/akr712/Desktop/音声認識/UrbanSound8K/audio/...</td>\n",
       "    </tr>\n",
       "    <tr>\n",
       "      <th>3</th>\n",
       "      <td>100263-2-0-126.wav</td>\n",
       "      <td>2</td>\n",
       "      <td>5</td>\n",
       "      <td>/Users/akr712/Desktop/音声認識/UrbanSound8K/audio/...</td>\n",
       "    </tr>\n",
       "    <tr>\n",
       "      <th>4</th>\n",
       "      <td>100263-2-0-137.wav</td>\n",
       "      <td>2</td>\n",
       "      <td>5</td>\n",
       "      <td>/Users/akr712/Desktop/音声認識/UrbanSound8K/audio/...</td>\n",
       "    </tr>\n",
       "    <tr>\n",
       "      <th>5</th>\n",
       "      <td>100263-2-0-143.wav</td>\n",
       "      <td>2</td>\n",
       "      <td>5</td>\n",
       "      <td>/Users/akr712/Desktop/音声認識/UrbanSound8K/audio/...</td>\n",
       "    </tr>\n",
       "  </tbody>\n",
       "</table>\n",
       "</div>"
      ],
      "text/plain": [
       "      slice_file_name  classID  fold  \\\n",
       "1  100263-2-0-117.wav        2     5   \n",
       "2  100263-2-0-121.wav        2     5   \n",
       "3  100263-2-0-126.wav        2     5   \n",
       "4  100263-2-0-137.wav        2     5   \n",
       "5  100263-2-0-143.wav        2     5   \n",
       "\n",
       "                                                path  \n",
       "1  /Users/akr712/Desktop/音声認識/UrbanSound8K/audio/...  \n",
       "2  /Users/akr712/Desktop/音声認識/UrbanSound8K/audio/...  \n",
       "3  /Users/akr712/Desktop/音声認識/UrbanSound8K/audio/...  \n",
       "4  /Users/akr712/Desktop/音声認識/UrbanSound8K/audio/...  \n",
       "5  /Users/akr712/Desktop/音声認識/UrbanSound8K/audio/...  "
      ]
     },
     "execution_count": 93,
     "metadata": {},
     "output_type": "execute_result"
    }
   ],
   "source": [
    "# .wavデータを集めるためのパスづくり\n",
    "base_path = \"/Users/akr712/Desktop/音声認識/UrbanSound8K/audio/fold\"\n",
    "sounds[\"path\"] = base_path + sounds[\"fold\"].astype(\"str\") + \"/\" +sounds[\"slice_file_name\"].astype(\"str\")\n",
    "sounds.head()"
   ]
  },
  {
   "cell_type": "code",
   "execution_count": 142,
   "metadata": {},
   "outputs": [
    {
     "name": "stdout",
     "output_type": "stream",
     "text": [
      "/Users/akr712/Desktop/音声認識/UrbanSound8K/audio/fold5/100263-2-0-117.wav\n"
     ]
    }
   ],
   "source": [
    "for row in sounds.itertuples():\n",
    "    print(row[4])\n",
    "    break"
   ]
  },
  {
   "cell_type": "code",
   "execution_count": 109,
   "metadata": {},
   "outputs": [
    {
     "name": "stdout",
     "output_type": "stream",
     "text": [
      "10\n"
     ]
    }
   ],
   "source": [
    "print(len(sounds.classID.unique()))"
   ]
  },
  {
   "cell_type": "code",
   "execution_count": 123,
   "metadata": {},
   "outputs": [],
   "source": [
    "# listにデータを集める\n",
    "classes = []\n",
    "speeches = []\n",
    "for row in sounds.itertuples():\n",
    "    y, sr = librosa.load(row[4], duration=2.97)  \n",
    "    ps = librosa.feature.melspectrogram(y=y, sr=sr)\n",
    "    if ps.shape != (128, 128): \n",
    "        continue\n",
    "    classes.append(row[2])\n",
    "    speeches.append(ps)"
   ]
  },
  {
   "cell_type": "code",
   "execution_count": 126,
   "metadata": {},
   "outputs": [
    {
     "data": {
      "text/plain": [
       "array([0, 1, 2, 3, 4, 5, 6, 7, 8, 9])"
      ]
     },
     "execution_count": 126,
     "metadata": {},
     "output_type": "execute_result"
    }
   ],
   "source": [
    "np.unique(classes)"
   ]
  },
  {
   "cell_type": "code",
   "execution_count": 127,
   "metadata": {},
   "outputs": [
    {
     "data": {
      "text/plain": [
       "10"
      ]
     },
     "execution_count": 127,
     "metadata": {},
     "output_type": "execute_result"
    }
   ],
   "source": [
    "len(np.unique(classes))"
   ]
  },
  {
   "cell_type": "code",
   "execution_count": 129,
   "metadata": {},
   "outputs": [
    {
     "data": {
      "text/plain": [
       "7478"
      ]
     },
     "execution_count": 129,
     "metadata": {},
     "output_type": "execute_result"
    }
   ],
   "source": [
    "len(speeches)"
   ]
  },
  {
   "cell_type": "markdown",
   "metadata": {},
   "source": [
    "## Reshape: Speech Data and Categorical One Hot for labels"
   ]
  },
  {
   "cell_type": "markdown",
   "metadata": {},
   "source": [
    "![](http://dkopczyk.quantee.co.uk/wp-content/uploads/2018/08/wav-768x132.png)"
   ]
  },
  {
   "cell_type": "code",
   "execution_count": 131,
   "metadata": {},
   "outputs": [],
   "source": [
    "ps = []\n",
    "for speech in speeches:\n",
    "    re = np.array(speech.reshape((128, 128, 1)))\n",
    "    ps.append(re)"
   ]
  },
  {
   "cell_type": "code",
   "execution_count": 143,
   "metadata": {},
   "outputs": [],
   "source": [
    "from sklearn.model_selection import train_test_split\n",
    "\n",
    "X_train, X_test, y_train, y_test = train_test_split(ps, classes, test_size=0.2, random_state=42)\n",
    "X_train, X_val, y_train, y_val = (train_test_split(X_train, y_train, test_size=0.2, random_state=42))"
   ]
  },
  {
   "cell_type": "code",
   "execution_count": 149,
   "metadata": {},
   "outputs": [],
   "source": [
    "from keras.utils import to_categorical\n",
    "y_train = np.array(to_categorical(y_train, 10))\n",
    "y_test = np.array(to_categorical(y_test, 10))\n",
    "y_val = np.array(to_categorical(y_val, 10))"
   ]
  },
  {
   "cell_type": "markdown",
   "metadata": {},
   "source": [
    "## Step 2. Build CNN Model\n",
    "### CNN: Convolutional Neural Networks\n",
    "The basic architecture of CNN includes:\n",
    "1. Convolutional Layer – uses convolutional operator to filter input signal and extract some additional image features\n",
    "2. Activation Function – applies non-linear function such as rectifier to the outputs of convolutional layer\n",
    "3. Pooling Layer – performs a downsampling operation reducing the size of an input with max() or sum() operation\n",
    "4. Fully-Connected Layer – each neuron in the previous layer is connected to each neuron on the next layer with last such layer producing outputs of neural network.\n",
    "\n",
    "![](https://bookdown.org/wshuyi/dive-into-data-science-practically/assets/2018-06-27-11-12-04-076004.png)"
   ]
  },
  {
   "cell_type": "code",
   "execution_count": 133,
   "metadata": {},
   "outputs": [],
   "source": [
    "from keras.models import Model\n",
    "from keras.layers import Input, Dense, Dropout, Flatten, BatchNormalization, Conv2D, MaxPooling2D"
   ]
  },
  {
   "cell_type": "code",
   "execution_count": 134,
   "metadata": {},
   "outputs": [],
   "source": [
    "# Modeling\n",
    "features_shape = (128, 128, 1)\n",
    "\n",
    "inputs = Input(shape=features_shape)\n",
    "\n",
    "# Block 1\n",
    "o = Conv2D(24, (5, 5), strides=(1, 1), input_shape=features_shape)(inputs)\n",
    "o = MaxPooling2D(pool_size=(4, 2), strides=(4, 2))(o)\n",
    "# o = Activation('relu')(o)\n",
    "o = BatchNormalization()(o)\n",
    "\n",
    "# Block 2\n",
    "o = Conv2D(48, (5, 5), padding=\"valid\")(o)\n",
    "o = MaxPooling2D((4, 2), strides=(4, 2))(o)\n",
    "# o = Activation('relu')(o)\n",
    "o = BatchNormalization()(o)\n",
    "\n",
    "# Block 3\n",
    "o = Conv2D(48, (5, 5), padding=\"valid\")(o)\n",
    "o = Activation(\"relu\")(o)\n",
    "\n",
    "# Flatten\n",
    "o = Flatten()(o)\n",
    "# o = Dropout(rate=0.5)(o)\n",
    "\n",
    "# Dense layer\n",
    "o = Dense(64, activation=\"relu\")(o)\n",
    "o = BatchNormalization()(o)\n",
    "o = Dropout(rate=0.5)(o)\n",
    "\n",
    "# Predictions\n",
    "outputs = Dense(10, activation=\"softmax\")(o)\n",
    "\n",
    "model = Model(inputs, outputs)"
   ]
  },
  {
   "cell_type": "code",
   "execution_count": 135,
   "metadata": {},
   "outputs": [
    {
     "data": {
      "text/plain": [
       "(128, 128, 1)"
      ]
     },
     "execution_count": 135,
     "metadata": {},
     "output_type": "execute_result"
    }
   ],
   "source": [
    "features_shape"
   ]
  },
  {
   "cell_type": "code",
   "execution_count": 136,
   "metadata": {},
   "outputs": [
    {
     "name": "stdout",
     "output_type": "stream",
     "text": [
      "_________________________________________________________________\n",
      "Layer (type)                 Output Shape              Param #   \n",
      "=================================================================\n",
      "input_14 (InputLayer)        (None, 128, 128, 1)       0         \n",
      "_________________________________________________________________\n",
      "conv2d_14 (Conv2D)           (None, 124, 124, 24)      624       \n",
      "_________________________________________________________________\n",
      "max_pooling2d_9 (MaxPooling2 (None, 31, 62, 24)        0         \n",
      "_________________________________________________________________\n",
      "batch_normalization_16 (Batc (None, 31, 62, 24)        96        \n",
      "_________________________________________________________________\n",
      "conv2d_15 (Conv2D)           (None, 27, 58, 48)        28848     \n",
      "_________________________________________________________________\n",
      "max_pooling2d_10 (MaxPooling (None, 6, 29, 48)         0         \n",
      "_________________________________________________________________\n",
      "batch_normalization_17 (Batc (None, 6, 29, 48)         192       \n",
      "_________________________________________________________________\n",
      "conv2d_16 (Conv2D)           (None, 2, 25, 48)         57648     \n",
      "_________________________________________________________________\n",
      "activation_6 (Activation)    (None, 2, 25, 48)         0         \n",
      "_________________________________________________________________\n",
      "flatten_6 (Flatten)          (None, 2400)              0         \n",
      "_________________________________________________________________\n",
      "dense_11 (Dense)             (None, 64)                153664    \n",
      "_________________________________________________________________\n",
      "batch_normalization_18 (Batc (None, 64)                256       \n",
      "_________________________________________________________________\n",
      "dropout_6 (Dropout)          (None, 64)                0         \n",
      "_________________________________________________________________\n",
      "dense_12 (Dense)             (None, 10)                650       \n",
      "=================================================================\n",
      "Total params: 241,978\n",
      "Trainable params: 241,706\n",
      "Non-trainable params: 272\n",
      "_________________________________________________________________\n"
     ]
    }
   ],
   "source": [
    "model.summary()"
   ]
  },
  {
   "cell_type": "code",
   "execution_count": 137,
   "metadata": {},
   "outputs": [],
   "source": [
    "model.compile(optimizer=\"Adam\", loss=\"categorical_crossentropy\", metrics=[\"accuracy\"])"
   ]
  },
  {
   "cell_type": "markdown",
   "metadata": {},
   "source": [
    "## Step 3. Training CNN for Classification"
   ]
  },
  {
   "cell_type": "code",
   "execution_count": 140,
   "metadata": {},
   "outputs": [],
   "source": [
    "EPOCHS = 5\n",
    "BATCH_SIZE = 32"
   ]
  },
  {
   "cell_type": "code",
   "execution_count": 150,
   "metadata": {},
   "outputs": [
    {
     "name": "stdout",
     "output_type": "stream",
     "text": [
      "Train on 4785 samples, validate on 1197 samples\n",
      "Epoch 1/5\n",
      "4785/4785 [==============================] - 281s 59ms/step - loss: 2.2878 - acc: 0.2466 - val_loss: 2.9128 - val_acc: 0.1838\n",
      "Epoch 2/5\n",
      "4785/4785 [==============================] - 164s 34ms/step - loss: 1.8745 - acc: 0.3404 - val_loss: 1.9056 - val_acc: 0.2531\n",
      "Epoch 3/5\n",
      "4785/4785 [==============================] - 217s 45ms/step - loss: 1.7301 - acc: 0.3766 - val_loss: 1.9852 - val_acc: 0.2974\n",
      "Epoch 4/5\n",
      "4785/4785 [==============================] - 200s 42ms/step - loss: 1.6248 - acc: 0.4211 - val_loss: 2.1790 - val_acc: 0.2891\n",
      "Epoch 5/5\n",
      "4785/4785 [==============================] - 446s 93ms/step - loss: 1.5516 - acc: 0.4355 - val_loss: 1.9808 - val_acc: 0.3400\n"
     ]
    }
   ],
   "source": [
    "history = model.fit(np.asarray(X_train),  np.asarray(y_train), \n",
    "                     epochs=EPOCHS, \n",
    "                     batch_size=BATCH_SIZE,\n",
    "                     validation_data=(np.asarray(X_val), np.asarray(y_val)))"
   ]
  },
  {
   "cell_type": "code",
   "execution_count": 151,
   "metadata": {},
   "outputs": [
    {
     "data": {
      "image/png": "[encoded data removed]",
      "text/plain": [
       "<Figure size 432x288 with 1 Axes>"
      ]
     },
     "metadata": {
      "needs_background": "light"
     },
     "output_type": "display_data"
    }
   ],
   "source": [
    "import matplotlib.pyplot as plt\n",
    "\n",
    "training_loss = history.history['loss']\n",
    "test_loss = history.history['val_loss']\n",
    "\n",
    "epoch_count = range(1, len(training_loss) + 1)\n",
    "\n",
    "plt.plot(epoch_count, training_loss, 'r--')\n",
    "plt.plot(epoch_count, test_loss, 'b-')\n",
    "plt.legend(['Training Loss', 'Test Loss'])\n",
    "plt.xlabel('Epoch')\n",
    "plt.ylabel('Loss')\n",
    "plt.show();"
   ]
  },
  {
   "cell_type": "code",
   "execution_count": 152,
   "metadata": {},
   "outputs": [
    {
     "data": {
      "image/png": "[encoded data removed]",
      "text/plain": [
       "<Figure size 432x288 with 1 Axes>"
      ]
     },
     "metadata": {
      "needs_background": "light"
     },
     "output_type": "display_data"
    }
   ],
   "source": [
    "training_acc = history.history['acc']\n",
    "test_acc = history.history['val_acc']\n",
    "\n",
    "epoch_count = range(1, len(training_acc) + 1)\n",
    "\n",
    "plt.plot(epoch_count, training_acc, 'r--')\n",
    "plt.plot(epoch_count, test_acc, 'b-')\n",
    "plt.legend(['Training Accuracy', 'Test Accuracy'])\n",
    "plt.xlabel('Epoch')\n",
    "plt.ylabel('Accuracy')\n",
    "plt.show();"
   ]
  },
  {
   "cell_type": "markdown",
   "metadata": {},
   "source": [
    "#### 今後: Data Augumentation を使った場合に分類の精度が向上するか試したい"
   ]
  }
 ],
 "metadata": {
  "kernelspec": {
   "display_name": "Python 3",
   "language": "python",
   "name": "python3"
  },
  "language_info": {
   "codemirror_mode": {
    "name": "ipython",
    "version": 3
   },
   "file_extension": ".py",
   "mimetype": "text/x-python",
   "name": "python",
   "nbconvert_exporter": "python",
   "pygments_lexer": "ipython3",
   "version": "3.5.1"
  }
 },
 "nbformat": 4,
 "nbformat_minor": 2
}
